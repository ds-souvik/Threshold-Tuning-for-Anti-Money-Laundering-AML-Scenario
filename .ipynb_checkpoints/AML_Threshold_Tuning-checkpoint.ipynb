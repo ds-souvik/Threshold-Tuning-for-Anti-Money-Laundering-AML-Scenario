{
 "cells": [
  {
   "cell_type": "markdown",
   "id": "53f07dfd",
   "metadata": {},
   "source": [
    "# Import packages and data"
   ]
  },
  {
   "cell_type": "markdown",
   "id": "776eba88",
   "metadata": {},
   "source": [
    "## 1.1 Import the required libraries"
   ]
  },
  {
   "cell_type": "code",
   "execution_count": 1,
   "id": "6a8c53c9",
   "metadata": {},
   "outputs": [
    {
     "name": "stdout",
     "output_type": "stream",
     "text": [
      "Requirement already satisfied: xlsxwriter in c:\\users\\gangu\\anaconda3\\lib\\site-packages (3.2.0)\n"
     ]
    }
   ],
   "source": [
    "!pip install xlsxwriter\n",
    "\n",
    "import numpy as np\n",
    "import pandas as pd\n",
    "import matplotlib.pyplot as plt\n",
    "%matplotlib inline\n",
    "\n",
    "pd.set_option('display.max_columns', None)\n",
    "pd.set_option('display.max_rows', None)\n",
    "\n",
    "from sklearn.metrics import confusion_matrix\n",
    "import seaborn as sns"
   ]
  },
  {
   "cell_type": "code",
   "execution_count": null,
   "id": "0c7ad0a8",
   "metadata": {},
   "outputs": [],
   "source": []
  },
  {
   "cell_type": "markdown",
   "id": "e64a49e0",
   "metadata": {},
   "source": [
    "## 1.2 Read the data into dataframes"
   ]
  },
  {
   "cell_type": "code",
   "execution_count": 2,
   "id": "9ec2492c",
   "metadata": {},
   "outputs": [],
   "source": [
    "#Read the account and transactions data\n",
    "acct_data = pd.read_csv('data/accounts.csv', usecols=['ACCOUNT_ID','IS_FRAUD'])\n",
    "txn_data = pd.read_csv('data/transactions.csv', usecols=['SENDER_ACCOUNT_ID','RECEIVER_ACCOUNT_ID','TX_AMOUNT'])"
   ]
  },
  {
   "cell_type": "code",
   "execution_count": 3,
   "id": "dcea0a8c",
   "metadata": {},
   "outputs": [
    {
     "data": {
      "text/html": [
       "<div>\n",
       "<style scoped>\n",
       "    .dataframe tbody tr th:only-of-type {\n",
       "        vertical-align: middle;\n",
       "    }\n",
       "\n",
       "    .dataframe tbody tr th {\n",
       "        vertical-align: top;\n",
       "    }\n",
       "\n",
       "    .dataframe thead th {\n",
       "        text-align: right;\n",
       "    }\n",
       "</style>\n",
       "<table border=\"1\" class=\"dataframe\">\n",
       "  <thead>\n",
       "    <tr style=\"text-align: right;\">\n",
       "      <th></th>\n",
       "      <th>ACCOUNT_ID</th>\n",
       "      <th>IS_FRAUD</th>\n",
       "    </tr>\n",
       "  </thead>\n",
       "  <tbody>\n",
       "    <tr>\n",
       "      <th>0</th>\n",
       "      <td>0</td>\n",
       "      <td>False</td>\n",
       "    </tr>\n",
       "    <tr>\n",
       "      <th>1</th>\n",
       "      <td>1</td>\n",
       "      <td>False</td>\n",
       "    </tr>\n",
       "    <tr>\n",
       "      <th>2</th>\n",
       "      <td>2</td>\n",
       "      <td>False</td>\n",
       "    </tr>\n",
       "    <tr>\n",
       "      <th>3</th>\n",
       "      <td>3</td>\n",
       "      <td>False</td>\n",
       "    </tr>\n",
       "    <tr>\n",
       "      <th>4</th>\n",
       "      <td>4</td>\n",
       "      <td>False</td>\n",
       "    </tr>\n",
       "  </tbody>\n",
       "</table>\n",
       "</div>"
      ],
      "text/plain": [
       "   ACCOUNT_ID  IS_FRAUD\n",
       "0           0     False\n",
       "1           1     False\n",
       "2           2     False\n",
       "3           3     False\n",
       "4           4     False"
      ]
     },
     "execution_count": 3,
     "metadata": {},
     "output_type": "execute_result"
    }
   ],
   "source": [
    "acct_data.head()"
   ]
  },
  {
   "cell_type": "code",
   "execution_count": 4,
   "id": "7c53d2e2",
   "metadata": {},
   "outputs": [
    {
     "data": {
      "text/html": [
       "<div>\n",
       "<style scoped>\n",
       "    .dataframe tbody tr th:only-of-type {\n",
       "        vertical-align: middle;\n",
       "    }\n",
       "\n",
       "    .dataframe tbody tr th {\n",
       "        vertical-align: top;\n",
       "    }\n",
       "\n",
       "    .dataframe thead th {\n",
       "        text-align: right;\n",
       "    }\n",
       "</style>\n",
       "<table border=\"1\" class=\"dataframe\">\n",
       "  <thead>\n",
       "    <tr style=\"text-align: right;\">\n",
       "      <th></th>\n",
       "      <th>SENDER_ACCOUNT_ID</th>\n",
       "      <th>RECEIVER_ACCOUNT_ID</th>\n",
       "      <th>TX_AMOUNT</th>\n",
       "    </tr>\n",
       "  </thead>\n",
       "  <tbody>\n",
       "    <tr>\n",
       "      <th>0</th>\n",
       "      <td>6456</td>\n",
       "      <td>9069</td>\n",
       "      <td>465.05</td>\n",
       "    </tr>\n",
       "    <tr>\n",
       "      <th>1</th>\n",
       "      <td>7516</td>\n",
       "      <td>9543</td>\n",
       "      <td>564.64</td>\n",
       "    </tr>\n",
       "    <tr>\n",
       "      <th>2</th>\n",
       "      <td>2445</td>\n",
       "      <td>9356</td>\n",
       "      <td>598.94</td>\n",
       "    </tr>\n",
       "    <tr>\n",
       "      <th>3</th>\n",
       "      <td>2576</td>\n",
       "      <td>4617</td>\n",
       "      <td>466.07</td>\n",
       "    </tr>\n",
       "    <tr>\n",
       "      <th>4</th>\n",
       "      <td>3524</td>\n",
       "      <td>1773</td>\n",
       "      <td>405.63</td>\n",
       "    </tr>\n",
       "  </tbody>\n",
       "</table>\n",
       "</div>"
      ],
      "text/plain": [
       "   SENDER_ACCOUNT_ID  RECEIVER_ACCOUNT_ID  TX_AMOUNT\n",
       "0               6456                 9069     465.05\n",
       "1               7516                 9543     564.64\n",
       "2               2445                 9356     598.94\n",
       "3               2576                 4617     466.07\n",
       "4               3524                 1773     405.63"
      ]
     },
     "execution_count": 4,
     "metadata": {},
     "output_type": "execute_result"
    }
   ],
   "source": [
    "txn_data.head()"
   ]
  },
  {
   "cell_type": "code",
   "execution_count": 5,
   "id": "d89ddd39",
   "metadata": {},
   "outputs": [
    {
     "name": "stdout",
     "output_type": "stream",
     "text": [
      "Data quality report exported successfully to data_quality_report.xlsx\n"
     ]
    }
   ],
   "source": [
    "# Import custom functions from dq_report.py\n",
    "from dq_report import data_quality_report, export_report_to_excel\n",
    "\n",
    "# Generate the data quality report\n",
    "report = data_quality_report(txn_data)\n",
    "\n",
    "# Export the report to an Excel file\n",
    "export_report_to_excel(report)"
   ]
  },
  {
   "cell_type": "code",
   "execution_count": 6,
   "id": "5c674292",
   "metadata": {},
   "outputs": [
    {
     "data": {
      "text/plain": [
       "(1323234, 3)"
      ]
     },
     "execution_count": 6,
     "metadata": {},
     "output_type": "execute_result"
    }
   ],
   "source": [
    "txn_data.shape"
   ]
  },
  {
   "cell_type": "code",
   "execution_count": 7,
   "id": "4f4b22a4",
   "metadata": {},
   "outputs": [
    {
     "data": {
      "text/plain": [
       "(10000, 2)"
      ]
     },
     "execution_count": 7,
     "metadata": {},
     "output_type": "execute_result"
    }
   ],
   "source": [
    "acct_data.shape"
   ]
  },
  {
   "cell_type": "markdown",
   "id": "1426c270",
   "metadata": {},
   "source": [
    "Timeframe chosen for analysis: Not known<br>\n",
    "We have data where 1323234 transactions are done using 10000 accounts"
   ]
  },
  {
   "cell_type": "code",
   "execution_count": null,
   "id": "a262a87a",
   "metadata": {},
   "outputs": [],
   "source": []
  },
  {
   "cell_type": "markdown",
   "id": "8e79e04f",
   "metadata": {},
   "source": [
    "# 2. Data Preprocessing"
   ]
  },
  {
   "cell_type": "markdown",
   "id": "6710d380",
   "metadata": {},
   "source": [
    "Converting IS_FRAUD column od acct_data to numerical variable for analysis"
   ]
  },
  {
   "cell_type": "code",
   "execution_count": 8,
   "id": "db884d22",
   "metadata": {},
   "outputs": [],
   "source": [
    "#False: 0 and True: 1\n",
    "acct_data.rename(columns={'IS_FRAUD':'SUSPICIOUS'}, inplace=True)\n",
    "acct_data['SUSPICIOUS'] = acct_data['SUSPICIOUS'].astype(int)"
   ]
  },
  {
   "cell_type": "code",
   "execution_count": 9,
   "id": "192e491a",
   "metadata": {},
   "outputs": [
    {
     "data": {
      "text/html": [
       "<div>\n",
       "<style scoped>\n",
       "    .dataframe tbody tr th:only-of-type {\n",
       "        vertical-align: middle;\n",
       "    }\n",
       "\n",
       "    .dataframe tbody tr th {\n",
       "        vertical-align: top;\n",
       "    }\n",
       "\n",
       "    .dataframe thead th {\n",
       "        text-align: right;\n",
       "    }\n",
       "</style>\n",
       "<table border=\"1\" class=\"dataframe\">\n",
       "  <thead>\n",
       "    <tr style=\"text-align: right;\">\n",
       "      <th></th>\n",
       "      <th>ACCOUNT_ID</th>\n",
       "      <th>SUSPICIOUS</th>\n",
       "    </tr>\n",
       "  </thead>\n",
       "  <tbody>\n",
       "    <tr>\n",
       "      <th>0</th>\n",
       "      <td>0</td>\n",
       "      <td>0</td>\n",
       "    </tr>\n",
       "    <tr>\n",
       "      <th>1</th>\n",
       "      <td>1</td>\n",
       "      <td>0</td>\n",
       "    </tr>\n",
       "    <tr>\n",
       "      <th>2</th>\n",
       "      <td>2</td>\n",
       "      <td>0</td>\n",
       "    </tr>\n",
       "    <tr>\n",
       "      <th>3</th>\n",
       "      <td>3</td>\n",
       "      <td>0</td>\n",
       "    </tr>\n",
       "    <tr>\n",
       "      <th>4</th>\n",
       "      <td>4</td>\n",
       "      <td>0</td>\n",
       "    </tr>\n",
       "  </tbody>\n",
       "</table>\n",
       "</div>"
      ],
      "text/plain": [
       "   ACCOUNT_ID  SUSPICIOUS\n",
       "0           0           0\n",
       "1           1           0\n",
       "2           2           0\n",
       "3           3           0\n",
       "4           4           0"
      ]
     },
     "execution_count": 9,
     "metadata": {},
     "output_type": "execute_result"
    }
   ],
   "source": [
    "acct_data.head()"
   ]
  },
  {
   "cell_type": "code",
   "execution_count": null,
   "id": "61b40184",
   "metadata": {},
   "outputs": [],
   "source": []
  },
  {
   "cell_type": "markdown",
   "id": "3fddf0d2",
   "metadata": {},
   "source": [
    "## 2.1 Create Eligible group"
   ]
  },
  {
   "cell_type": "code",
   "execution_count": 10,
   "id": "3f3aae32",
   "metadata": {},
   "outputs": [
    {
     "data": {
      "text/html": [
       "<div>\n",
       "<style scoped>\n",
       "    .dataframe tbody tr th:only-of-type {\n",
       "        vertical-align: middle;\n",
       "    }\n",
       "\n",
       "    .dataframe tbody tr th {\n",
       "        vertical-align: top;\n",
       "    }\n",
       "\n",
       "    .dataframe thead th {\n",
       "        text-align: right;\n",
       "    }\n",
       "</style>\n",
       "<table border=\"1\" class=\"dataframe\">\n",
       "  <thead>\n",
       "    <tr style=\"text-align: right;\">\n",
       "      <th></th>\n",
       "      <th>ACCOUNT_ID</th>\n",
       "      <th>DEPOSIT_AMT</th>\n",
       "      <th>DEPOSIT_COUNT</th>\n",
       "      <th>DEPOSIT_CTPY</th>\n",
       "    </tr>\n",
       "  </thead>\n",
       "  <tbody>\n",
       "    <tr>\n",
       "      <th>0</th>\n",
       "      <td>3</td>\n",
       "      <td>313.49</td>\n",
       "      <td>23</td>\n",
       "      <td>1</td>\n",
       "    </tr>\n",
       "    <tr>\n",
       "      <th>1</th>\n",
       "      <td>5</td>\n",
       "      <td>156.75</td>\n",
       "      <td>19</td>\n",
       "      <td>1</td>\n",
       "    </tr>\n",
       "    <tr>\n",
       "      <th>2</th>\n",
       "      <td>6</td>\n",
       "      <td>3823.80</td>\n",
       "      <td>20</td>\n",
       "      <td>1</td>\n",
       "    </tr>\n",
       "    <tr>\n",
       "      <th>3</th>\n",
       "      <td>7</td>\n",
       "      <td>2816.60</td>\n",
       "      <td>20</td>\n",
       "      <td>1</td>\n",
       "    </tr>\n",
       "    <tr>\n",
       "      <th>4</th>\n",
       "      <td>9</td>\n",
       "      <td>9479685.44</td>\n",
       "      <td>3</td>\n",
       "      <td>1</td>\n",
       "    </tr>\n",
       "  </tbody>\n",
       "</table>\n",
       "</div>"
      ],
      "text/plain": [
       "   ACCOUNT_ID  DEPOSIT_AMT  DEPOSIT_COUNT  DEPOSIT_CTPY\n",
       "0           3       313.49             23             1\n",
       "1           5       156.75             19             1\n",
       "2           6      3823.80             20             1\n",
       "3           7      2816.60             20             1\n",
       "4           9   9479685.44              3             1"
      ]
     },
     "execution_count": 10,
     "metadata": {},
     "output_type": "execute_result"
    }
   ],
   "source": [
    "credit_summary = txn_data.groupby('RECEIVER_ACCOUNT_ID', as_index=False).agg({'TX_AMOUNT':['sum','count'], 'SENDER_ACCOUNT_ID':'nunique'})\n",
    "credit_summary.columns=['ACCOUNT_ID','DEPOSIT_AMT','DEPOSIT_COUNT','DEPOSIT_CTPY']\n",
    "credit_summary.head()"
   ]
  },
  {
   "cell_type": "code",
   "execution_count": 11,
   "id": "8c50dc46",
   "metadata": {},
   "outputs": [
    {
     "data": {
      "text/html": [
       "<div>\n",
       "<style scoped>\n",
       "    .dataframe tbody tr th:only-of-type {\n",
       "        vertical-align: middle;\n",
       "    }\n",
       "\n",
       "    .dataframe tbody tr th {\n",
       "        vertical-align: top;\n",
       "    }\n",
       "\n",
       "    .dataframe thead th {\n",
       "        text-align: right;\n",
       "    }\n",
       "</style>\n",
       "<table border=\"1\" class=\"dataframe\">\n",
       "  <thead>\n",
       "    <tr style=\"text-align: right;\">\n",
       "      <th></th>\n",
       "      <th>ACCOUNT_ID</th>\n",
       "      <th>DEBIT_AMT</th>\n",
       "      <th>DEBIT_COUNT</th>\n",
       "      <th>DEBIT_CTPY</th>\n",
       "    </tr>\n",
       "  </thead>\n",
       "  <tbody>\n",
       "    <tr>\n",
       "      <th>0</th>\n",
       "      <td>1</td>\n",
       "      <td>4219.20</td>\n",
       "      <td>24</td>\n",
       "      <td>1</td>\n",
       "    </tr>\n",
       "    <tr>\n",
       "      <th>1</th>\n",
       "      <td>2</td>\n",
       "      <td>2556.90</td>\n",
       "      <td>18</td>\n",
       "      <td>1</td>\n",
       "    </tr>\n",
       "    <tr>\n",
       "      <th>2</th>\n",
       "      <td>3</td>\n",
       "      <td>2391.72</td>\n",
       "      <td>19</td>\n",
       "      <td>1</td>\n",
       "    </tr>\n",
       "    <tr>\n",
       "      <th>3</th>\n",
       "      <td>4</td>\n",
       "      <td>3475.99</td>\n",
       "      <td>23</td>\n",
       "      <td>1</td>\n",
       "    </tr>\n",
       "    <tr>\n",
       "      <th>4</th>\n",
       "      <td>5</td>\n",
       "      <td>2669.12</td>\n",
       "      <td>38</td>\n",
       "      <td>2</td>\n",
       "    </tr>\n",
       "  </tbody>\n",
       "</table>\n",
       "</div>"
      ],
      "text/plain": [
       "   ACCOUNT_ID  DEBIT_AMT  DEBIT_COUNT  DEBIT_CTPY\n",
       "0           1    4219.20           24           1\n",
       "1           2    2556.90           18           1\n",
       "2           3    2391.72           19           1\n",
       "3           4    3475.99           23           1\n",
       "4           5    2669.12           38           2"
      ]
     },
     "execution_count": 11,
     "metadata": {},
     "output_type": "execute_result"
    }
   ],
   "source": [
    "debit_summary = txn_data.groupby('SENDER_ACCOUNT_ID', as_index=False).agg({'TX_AMOUNT':['sum','count'], 'RECEIVER_ACCOUNT_ID':'nunique'})\n",
    "debit_summary.columns=['ACCOUNT_ID','DEBIT_AMT','DEBIT_COUNT','DEBIT_CTPY']\n",
    "debit_summary.head()"
   ]
  },
  {
   "cell_type": "code",
   "execution_count": 12,
   "id": "cc55cd15",
   "metadata": {},
   "outputs": [
    {
     "data": {
      "text/html": [
       "<div>\n",
       "<style scoped>\n",
       "    .dataframe tbody tr th:only-of-type {\n",
       "        vertical-align: middle;\n",
       "    }\n",
       "\n",
       "    .dataframe tbody tr th {\n",
       "        vertical-align: top;\n",
       "    }\n",
       "\n",
       "    .dataframe thead th {\n",
       "        text-align: right;\n",
       "    }\n",
       "</style>\n",
       "<table border=\"1\" class=\"dataframe\">\n",
       "  <thead>\n",
       "    <tr style=\"text-align: right;\">\n",
       "      <th></th>\n",
       "      <th>SUSPICIOUS</th>\n",
       "      <th>DEPOSIT_AMT</th>\n",
       "      <th>DEPOSIT_COUNT</th>\n",
       "      <th>DEPOSIT_CTPY</th>\n",
       "      <th>DEBIT_AMT</th>\n",
       "      <th>DEBIT_COUNT</th>\n",
       "      <th>DEBIT_CTPY</th>\n",
       "    </tr>\n",
       "  </thead>\n",
       "  <tbody>\n",
       "    <tr>\n",
       "      <th>0</th>\n",
       "      <td>0</td>\n",
       "      <td>0.00</td>\n",
       "      <td>0.0</td>\n",
       "      <td>0.0</td>\n",
       "      <td>0.00</td>\n",
       "      <td>0.0</td>\n",
       "      <td>0.0</td>\n",
       "    </tr>\n",
       "    <tr>\n",
       "      <th>1</th>\n",
       "      <td>0</td>\n",
       "      <td>0.00</td>\n",
       "      <td>0.0</td>\n",
       "      <td>0.0</td>\n",
       "      <td>4219.20</td>\n",
       "      <td>24.0</td>\n",
       "      <td>1.0</td>\n",
       "    </tr>\n",
       "    <tr>\n",
       "      <th>2</th>\n",
       "      <td>0</td>\n",
       "      <td>0.00</td>\n",
       "      <td>0.0</td>\n",
       "      <td>0.0</td>\n",
       "      <td>2556.90</td>\n",
       "      <td>18.0</td>\n",
       "      <td>1.0</td>\n",
       "    </tr>\n",
       "    <tr>\n",
       "      <th>3</th>\n",
       "      <td>0</td>\n",
       "      <td>313.49</td>\n",
       "      <td>23.0</td>\n",
       "      <td>1.0</td>\n",
       "      <td>2391.72</td>\n",
       "      <td>19.0</td>\n",
       "      <td>1.0</td>\n",
       "    </tr>\n",
       "    <tr>\n",
       "      <th>4</th>\n",
       "      <td>0</td>\n",
       "      <td>0.00</td>\n",
       "      <td>0.0</td>\n",
       "      <td>0.0</td>\n",
       "      <td>3475.99</td>\n",
       "      <td>23.0</td>\n",
       "      <td>1.0</td>\n",
       "    </tr>\n",
       "  </tbody>\n",
       "</table>\n",
       "</div>"
      ],
      "text/plain": [
       "   SUSPICIOUS  DEPOSIT_AMT  DEPOSIT_COUNT  DEPOSIT_CTPY  DEBIT_AMT  \\\n",
       "0           0         0.00            0.0           0.0       0.00   \n",
       "1           0         0.00            0.0           0.0    4219.20   \n",
       "2           0         0.00            0.0           0.0    2556.90   \n",
       "3           0       313.49           23.0           1.0    2391.72   \n",
       "4           0         0.00            0.0           0.0    3475.99   \n",
       "\n",
       "   DEBIT_COUNT  DEBIT_CTPY  \n",
       "0          0.0         0.0  \n",
       "1         24.0         1.0  \n",
       "2         18.0         1.0  \n",
       "3         19.0         1.0  \n",
       "4         23.0         1.0  "
      ]
     },
     "execution_count": 12,
     "metadata": {},
     "output_type": "execute_result"
    }
   ],
   "source": [
    "acct_summary=acct_data.merge(credit_summary, on='ACCOUNT_ID', how='left').merge(debit_summary, on='ACCOUNT_ID', how='left').fillna(0).drop(columns=['ACCOUNT_ID'])\n",
    "acct_summary.head()"
   ]
  },
  {
   "cell_type": "code",
   "execution_count": 13,
   "id": "84901027",
   "metadata": {},
   "outputs": [
    {
     "data": {
      "text/plain": [
       "SUSPICIOUS\n",
       "0    8315\n",
       "1    1685\n",
       "Name: count, dtype: int64"
      ]
     },
     "execution_count": 13,
     "metadata": {},
     "output_type": "execute_result"
    }
   ],
   "source": [
    "acct_summary['SUSPICIOUS'].value_counts()"
   ]
  },
  {
   "cell_type": "code",
   "execution_count": 15,
   "id": "aa185c12",
   "metadata": {},
   "outputs": [],
   "source": [
    "acct_summary_train = pd.concat([\n",
    "    acct_summary[acct_summary['SUSPICIOUS']==0].sample(frac=0.6, random_state=721),\n",
    "    acct_summary[acct_summary['SUSPICIOUS']==1].sample(frac=0.6, random_state=721)]).sort_index()\n",
    "    \n",
    "acct_summary_test = acct_summary[~acct_summary.index.isin(acct_summary_train.index)]"
   ]
  },
  {
   "cell_type": "code",
   "execution_count": 16,
   "id": "215faaf6",
   "metadata": {},
   "outputs": [
    {
     "name": "stdout",
     "output_type": "stream",
     "text": [
      "Train Set\n",
      " SUSPICIOUS\n",
      "0    4989\n",
      "1    1011\n",
      "Name: count, dtype: int64 \n",
      "\n",
      "Test Set\n",
      " SUSPICIOUS\n",
      "0    3326\n",
      "1     674\n",
      "Name: count, dtype: int64\n"
     ]
    }
   ],
   "source": [
    "print('Train Set\\n', acct_summary_train['SUSPICIOUS'].value_counts(), '\\n')\n",
    "print('Test Set\\n', acct_summary_test['SUSPICIOUS'].value_counts())"
   ]
  },
  {
   "cell_type": "code",
   "execution_count": 17,
   "id": "050402d8",
   "metadata": {},
   "outputs": [
    {
     "data": {
      "text/html": [
       "<div>\n",
       "<style scoped>\n",
       "    .dataframe tbody tr th:only-of-type {\n",
       "        vertical-align: middle;\n",
       "    }\n",
       "\n",
       "    .dataframe tbody tr th {\n",
       "        vertical-align: top;\n",
       "    }\n",
       "\n",
       "    .dataframe thead th {\n",
       "        text-align: right;\n",
       "    }\n",
       "</style>\n",
       "<table border=\"1\" class=\"dataframe\">\n",
       "  <thead>\n",
       "    <tr style=\"text-align: right;\">\n",
       "      <th></th>\n",
       "      <th>SUSPICIOUS</th>\n",
       "      <th>DEPOSIT_AMT</th>\n",
       "      <th>DEPOSIT_COUNT</th>\n",
       "      <th>DEPOSIT_CTPY</th>\n",
       "      <th>DEBIT_AMT</th>\n",
       "      <th>DEBIT_COUNT</th>\n",
       "      <th>DEBIT_CTPY</th>\n",
       "    </tr>\n",
       "  </thead>\n",
       "  <tbody>\n",
       "    <tr>\n",
       "      <th>0</th>\n",
       "      <td>0</td>\n",
       "      <td>0.00</td>\n",
       "      <td>0.0</td>\n",
       "      <td>0.0</td>\n",
       "      <td>0.00</td>\n",
       "      <td>0.0</td>\n",
       "      <td>0.0</td>\n",
       "    </tr>\n",
       "    <tr>\n",
       "      <th>1</th>\n",
       "      <td>0</td>\n",
       "      <td>0.00</td>\n",
       "      <td>0.0</td>\n",
       "      <td>0.0</td>\n",
       "      <td>4219.20</td>\n",
       "      <td>24.0</td>\n",
       "      <td>1.0</td>\n",
       "    </tr>\n",
       "    <tr>\n",
       "      <th>3</th>\n",
       "      <td>0</td>\n",
       "      <td>313.49</td>\n",
       "      <td>23.0</td>\n",
       "      <td>1.0</td>\n",
       "      <td>2391.72</td>\n",
       "      <td>19.0</td>\n",
       "      <td>1.0</td>\n",
       "    </tr>\n",
       "    <tr>\n",
       "      <th>4</th>\n",
       "      <td>0</td>\n",
       "      <td>0.00</td>\n",
       "      <td>0.0</td>\n",
       "      <td>0.0</td>\n",
       "      <td>3475.99</td>\n",
       "      <td>23.0</td>\n",
       "      <td>1.0</td>\n",
       "    </tr>\n",
       "    <tr>\n",
       "      <th>5</th>\n",
       "      <td>0</td>\n",
       "      <td>156.75</td>\n",
       "      <td>19.0</td>\n",
       "      <td>1.0</td>\n",
       "      <td>2669.12</td>\n",
       "      <td>38.0</td>\n",
       "      <td>2.0</td>\n",
       "    </tr>\n",
       "  </tbody>\n",
       "</table>\n",
       "</div>"
      ],
      "text/plain": [
       "   SUSPICIOUS  DEPOSIT_AMT  DEPOSIT_COUNT  DEPOSIT_CTPY  DEBIT_AMT  \\\n",
       "0           0         0.00            0.0           0.0       0.00   \n",
       "1           0         0.00            0.0           0.0    4219.20   \n",
       "3           0       313.49           23.0           1.0    2391.72   \n",
       "4           0         0.00            0.0           0.0    3475.99   \n",
       "5           0       156.75           19.0           1.0    2669.12   \n",
       "\n",
       "   DEBIT_COUNT  DEBIT_CTPY  \n",
       "0          0.0         0.0  \n",
       "1         24.0         1.0  \n",
       "3         19.0         1.0  \n",
       "4         23.0         1.0  \n",
       "5         38.0         2.0  "
      ]
     },
     "execution_count": 17,
     "metadata": {},
     "output_type": "execute_result"
    }
   ],
   "source": [
    "acct_summary_train.head()"
   ]
  },
  {
   "cell_type": "code",
   "execution_count": 18,
   "id": "a4028c07",
   "metadata": {},
   "outputs": [
    {
     "data": {
      "text/html": [
       "<div>\n",
       "<style scoped>\n",
       "    .dataframe tbody tr th:only-of-type {\n",
       "        vertical-align: middle;\n",
       "    }\n",
       "\n",
       "    .dataframe tbody tr th {\n",
       "        vertical-align: top;\n",
       "    }\n",
       "\n",
       "    .dataframe thead th {\n",
       "        text-align: right;\n",
       "    }\n",
       "</style>\n",
       "<table border=\"1\" class=\"dataframe\">\n",
       "  <thead>\n",
       "    <tr style=\"text-align: right;\">\n",
       "      <th></th>\n",
       "      <th>SUSPICIOUS</th>\n",
       "      <th>DEPOSIT_AMT</th>\n",
       "      <th>DEPOSIT_COUNT</th>\n",
       "      <th>DEPOSIT_CTPY</th>\n",
       "      <th>DEBIT_AMT</th>\n",
       "      <th>DEBIT_COUNT</th>\n",
       "      <th>DEBIT_CTPY</th>\n",
       "    </tr>\n",
       "  </thead>\n",
       "  <tbody>\n",
       "    <tr>\n",
       "      <th>2</th>\n",
       "      <td>0</td>\n",
       "      <td>0.00</td>\n",
       "      <td>0.0</td>\n",
       "      <td>0.0</td>\n",
       "      <td>2556.90</td>\n",
       "      <td>18.0</td>\n",
       "      <td>1.0</td>\n",
       "    </tr>\n",
       "    <tr>\n",
       "      <th>7</th>\n",
       "      <td>0</td>\n",
       "      <td>2816.60</td>\n",
       "      <td>20.0</td>\n",
       "      <td>1.0</td>\n",
       "      <td>2215.44</td>\n",
       "      <td>34.0</td>\n",
       "      <td>2.0</td>\n",
       "    </tr>\n",
       "    <tr>\n",
       "      <th>8</th>\n",
       "      <td>0</td>\n",
       "      <td>0.00</td>\n",
       "      <td>0.0</td>\n",
       "      <td>0.0</td>\n",
       "      <td>3396.18</td>\n",
       "      <td>46.0</td>\n",
       "      <td>2.0</td>\n",
       "    </tr>\n",
       "    <tr>\n",
       "      <th>9</th>\n",
       "      <td>0</td>\n",
       "      <td>9479685.44</td>\n",
       "      <td>3.0</td>\n",
       "      <td>1.0</td>\n",
       "      <td>2849.76</td>\n",
       "      <td>36.0</td>\n",
       "      <td>2.0</td>\n",
       "    </tr>\n",
       "    <tr>\n",
       "      <th>10</th>\n",
       "      <td>0</td>\n",
       "      <td>2076.00</td>\n",
       "      <td>20.0</td>\n",
       "      <td>1.0</td>\n",
       "      <td>4006.80</td>\n",
       "      <td>42.0</td>\n",
       "      <td>2.0</td>\n",
       "    </tr>\n",
       "  </tbody>\n",
       "</table>\n",
       "</div>"
      ],
      "text/plain": [
       "    SUSPICIOUS  DEPOSIT_AMT  DEPOSIT_COUNT  DEPOSIT_CTPY  DEBIT_AMT  \\\n",
       "2            0         0.00            0.0           0.0    2556.90   \n",
       "7            0      2816.60           20.0           1.0    2215.44   \n",
       "8            0         0.00            0.0           0.0    3396.18   \n",
       "9            0   9479685.44            3.0           1.0    2849.76   \n",
       "10           0      2076.00           20.0           1.0    4006.80   \n",
       "\n",
       "    DEBIT_COUNT  DEBIT_CTPY  \n",
       "2          18.0         1.0  \n",
       "7          34.0         2.0  \n",
       "8          46.0         2.0  \n",
       "9          36.0         2.0  \n",
       "10         42.0         2.0  "
      ]
     },
     "execution_count": 18,
     "metadata": {},
     "output_type": "execute_result"
    }
   ],
   "source": [
    "acct_summary_test.head()"
   ]
  },
  {
   "cell_type": "code",
   "execution_count": 20,
   "id": "93dfcaa3",
   "metadata": {},
   "outputs": [
    {
     "data": {
      "text/html": [
       "<div>\n",
       "<style scoped>\n",
       "    .dataframe tbody tr th:only-of-type {\n",
       "        vertical-align: middle;\n",
       "    }\n",
       "\n",
       "    .dataframe tbody tr th {\n",
       "        vertical-align: top;\n",
       "    }\n",
       "\n",
       "    .dataframe thead th {\n",
       "        text-align: right;\n",
       "    }\n",
       "</style>\n",
       "<table border=\"1\" class=\"dataframe\">\n",
       "  <thead>\n",
       "    <tr style=\"text-align: right;\">\n",
       "      <th></th>\n",
       "      <th>ALL</th>\n",
       "      <th>NOT SUSPICIOUS</th>\n",
       "      <th>SUSPICIOUS</th>\n",
       "    </tr>\n",
       "  </thead>\n",
       "  <tbody>\n",
       "    <tr>\n",
       "      <th>SUSPICIOUS</th>\n",
       "      <td>1.771704</td>\n",
       "      <td>0.000000</td>\n",
       "      <td>0.000000</td>\n",
       "    </tr>\n",
       "    <tr>\n",
       "      <th>DEPOSIT_AMT</th>\n",
       "      <td>4.594050</td>\n",
       "      <td>2.725163</td>\n",
       "      <td>4.301850</td>\n",
       "    </tr>\n",
       "    <tr>\n",
       "      <th>DEPOSIT_COUNT</th>\n",
       "      <td>5.888643</td>\n",
       "      <td>3.628733</td>\n",
       "      <td>4.963671</td>\n",
       "    </tr>\n",
       "    <tr>\n",
       "      <th>DEPOSIT_CTPY</th>\n",
       "      <td>7.296286</td>\n",
       "      <td>4.060108</td>\n",
       "      <td>4.959811</td>\n",
       "    </tr>\n",
       "    <tr>\n",
       "      <th>DEBIT_AMT</th>\n",
       "      <td>2.450498</td>\n",
       "      <td>2.460782</td>\n",
       "      <td>2.386625</td>\n",
       "    </tr>\n",
       "    <tr>\n",
       "      <th>DEBIT_COUNT</th>\n",
       "      <td>2.322480</td>\n",
       "      <td>2.174434</td>\n",
       "      <td>2.065765</td>\n",
       "    </tr>\n",
       "    <tr>\n",
       "      <th>DEBIT_CTPY</th>\n",
       "      <td>2.104199</td>\n",
       "      <td>2.034496</td>\n",
       "      <td>1.739400</td>\n",
       "    </tr>\n",
       "  </tbody>\n",
       "</table>\n",
       "</div>"
      ],
      "text/plain": [
       "                    ALL  NOT SUSPICIOUS  SUSPICIOUS\n",
       "SUSPICIOUS     1.771704        0.000000    0.000000\n",
       "DEPOSIT_AMT    4.594050        2.725163    4.301850\n",
       "DEPOSIT_COUNT  5.888643        3.628733    4.963671\n",
       "DEPOSIT_CTPY   7.296286        4.060108    4.959811\n",
       "DEBIT_AMT      2.450498        2.460782    2.386625\n",
       "DEBIT_COUNT    2.322480        2.174434    2.065765\n",
       "DEBIT_CTPY     2.104199        2.034496    1.739400"
      ]
     },
     "execution_count": 20,
     "metadata": {},
     "output_type": "execute_result"
    }
   ],
   "source": [
    "skewness = pd.concat([\n",
    "    acct_summary_train.skew(),\n",
    "    acct_summary_train[acct_summary_train['SUSPICIOUS']==0].skew(),\n",
    "    acct_summary_train[acct_summary_train['SUSPICIOUS']==1].skew()],axis=1)\n",
    "\n",
    "skewness.columns=['ALL','NOT SUSPICIOUS','SUSPICIOUS']\n",
    "\n",
    "skewness"
   ]
  },
  {
   "cell_type": "markdown",
   "id": "556fea7f",
   "metadata": {},
   "source": [
    "Highly skewed data"
   ]
  },
  {
   "cell_type": "code",
   "execution_count": 23,
   "id": "0afda146",
   "metadata": {},
   "outputs": [],
   "source": [
    "target_feature = 'DEPOSIT_AMT'\n",
    "\n",
    "summary_train_df = pd.DataFrame()\n",
    "\n",
    "for i in range(1, 100):\n",
    "    q = i / 100\n",
    "    threshold = acct_summary_train[target_feature].quantile(q=q)\n",
    "\n",
    "    summary_train = {\n",
    "        'feature': target_feature,\n",
    "        'percentile': q,\n",
    "        'threshold': threshold,\n",
    "        'no_of_alerts': (acct_summary_train[target_feature] >= threshold).sum(),\n",
    "        'tp_count': ((acct_summary_train[target_feature] >= threshold) & (acct_summary_train['SUSPICIOUS'] == 1)).sum(),\n",
    "        'fp_count': ((acct_summary_train[target_feature] >= threshold) & (acct_summary_train['SUSPICIOUS'] == 0)).sum(),\n",
    "        'tn_count': ((acct_summary_train[target_feature] < threshold) & (acct_summary_train['SUSPICIOUS'] == 0)).sum(),\n",
    "        'fn_count': ((acct_summary_train[target_feature] < threshold) & (acct_summary_train['SUSPICIOUS'] == 1)).sum()\n",
    "    }\n",
    "\n",
    "    # Convert summary_train to DataFrame and concatenate with summary_train_df\n",
    "    summary_train_df = pd.concat([summary_train_df, pd.DataFrame(summary_train, index=[0])], ignore_index=True)"
   ]
  },
  {
   "cell_type": "code",
   "execution_count": 24,
   "id": "b36ad43a",
   "metadata": {},
   "outputs": [
    {
     "name": "stdout",
     "output_type": "stream",
     "text": [
      "Data quality report exported successfully to percentile_thresholds_report.xlsx\n"
     ]
    }
   ],
   "source": [
    "# Export the report to an Excel file\n",
    "export_report_to_excel(summary_train_df, filename=\"percentile_thresholds_report.xlsx\")"
   ]
  },
  {
   "cell_type": "code",
   "execution_count": 25,
   "id": "fb24d6df",
   "metadata": {},
   "outputs": [
    {
     "data": {
      "text/html": [
       "<div>\n",
       "<style scoped>\n",
       "    .dataframe tbody tr th:only-of-type {\n",
       "        vertical-align: middle;\n",
       "    }\n",
       "\n",
       "    .dataframe tbody tr th {\n",
       "        vertical-align: top;\n",
       "    }\n",
       "\n",
       "    .dataframe thead th {\n",
       "        text-align: right;\n",
       "    }\n",
       "</style>\n",
       "<table border=\"1\" class=\"dataframe\">\n",
       "  <thead>\n",
       "    <tr style=\"text-align: right;\">\n",
       "      <th></th>\n",
       "      <th>feature</th>\n",
       "      <th>percentile</th>\n",
       "      <th>threshold</th>\n",
       "      <th>no_of_alerts</th>\n",
       "      <th>tp_count</th>\n",
       "      <th>fp_count</th>\n",
       "      <th>tn_count</th>\n",
       "      <th>fn_count</th>\n",
       "      <th>tp_rate</th>\n",
       "      <th>fp_rate</th>\n",
       "      <th>j_stat</th>\n",
       "    </tr>\n",
       "  </thead>\n",
       "  <tbody>\n",
       "    <tr>\n",
       "      <th>63</th>\n",
       "      <td>DEPOSIT_AMT</td>\n",
       "      <td>0.64</td>\n",
       "      <td>1.566139e+07</td>\n",
       "      <td>2160</td>\n",
       "      <td>499</td>\n",
       "      <td>1661</td>\n",
       "      <td>3328</td>\n",
       "      <td>512</td>\n",
       "      <td>0.493571</td>\n",
       "      <td>0.332932</td>\n",
       "      <td>0.160638</td>\n",
       "    </tr>\n",
       "  </tbody>\n",
       "</table>\n",
       "</div>"
      ],
      "text/plain": [
       "        feature  percentile     threshold  no_of_alerts  tp_count  fp_count  \\\n",
       "63  DEPOSIT_AMT        0.64  1.566139e+07          2160       499      1661   \n",
       "\n",
       "    tn_count  fn_count   tp_rate   fp_rate    j_stat  \n",
       "63      3328       512  0.493571  0.332932  0.160638  "
      ]
     },
     "execution_count": 25,
     "metadata": {},
     "output_type": "execute_result"
    }
   ],
   "source": [
    "summary_train_df['tp_rate'] = summary_train_df['tp_count'] / (summary_train_df['tp_count'] + summary_train_df['fn_count'])\n",
    "summary_train_df['fp_rate'] = summary_train_df['fp_count'] / (summary_train_df['fp_count'] + summary_train_df['tn_count'])\n",
    "summary_train_df['j_stat'] = summary_train_df['tp_rate'] - summary_train_df['fp_rate']\n",
    "best_j_stat_df = summary_train_df[summary_train_df['j_stat'] == summary_train_df['j_stat'].max()]\n",
    "best_j_stat_df"
   ]
  },
  {
   "cell_type": "code",
   "execution_count": 26,
   "id": "360794b1",
   "metadata": {},
   "outputs": [],
   "source": [
    "best_percentile_by_j_stat = best_j_stat_df.iloc[0]['percentile']\n",
    "best_threshold_by_j_stat = best_j_stat_df.iloc[0]['threshold']\n",
    "best_j_stat = best_j_stat_df.iloc[0]['j_stat']\n",
    "best_fpr_by_j_stat = best_j_stat_df.iloc[0]['fp_rate']\n",
    "best_tpr_by_j_stat = best_j_stat_df.iloc[0]['tp_rate']"
   ]
  },
  {
   "cell_type": "code",
   "execution_count": 29,
   "id": "f7446ef8",
   "metadata": {},
   "outputs": [
    {
     "data": {
      "image/png": "[encoded data removed]",
      "text/plain": [
       "<Figure size 1000x800 with 2 Axes>"
      ]
     },
     "metadata": {},
     "output_type": "display_data"
    }
   ],
   "source": [
    "# Assuming the threshold and target feature have already been defined\n",
    "y_suspicious = acct_summary_train['SUSPICIOUS']\n",
    "y_alert = (acct_summary_train[target_feature] >= best_threshold_by_j_stat).astype(int)\n",
    "\n",
    "# Calculate the confusion matrix\n",
    "cm = confusion_matrix(y_suspicious, y_alert)\n",
    "\n",
    "# Create a DataFrame for better visualization\n",
    "cm_df = pd.DataFrame(cm, index=['Not Suspicious', 'Suspicious'], columns=['No Alert', 'With Alert'])\n",
    "\n",
    "plt.figure(figsize=(10, 8))\n",
    "sns.heatmap(cm_df, cmap='Blues', fmt='g', cbar=True, annot_kws={\"size\": 15})\n",
    "plt.xlabel('With Alert', fontsize=15)\n",
    "plt.ylabel('Suspicious', fontsize=15)\n",
    "plt.title(f'Confusion Matrix at {best_percentile_by_j_stat*100:.0f}th Percentile', fontsize=18)\n",
    "plt.xticks(fontsize=12)\n",
    "plt.yticks(fontsize=12)\n",
    "\n",
    "# Add text annotations\n",
    "for i in range(cm.shape[0]):\n",
    "    for j in range(cm.shape[1]):\n",
    "        plt.text(j + 0.5, i + 0.5, f'{cm[i, j]}', horizontalalignment='center', color='white' if cm[i, j] > cm.max() / 2 else 'black')\n",
    "\n",
    "plt.show()"
   ]
  },
  {
   "cell_type": "code",
   "execution_count": 30,
   "id": "1cfc0587",
   "metadata": {},
   "outputs": [
    {
     "data": {
      "image/png": "[encoded data removed]",
      "text/plain": [
       "<Figure size 1500x500 with 3 Axes>"
      ]
     },
     "metadata": {},
     "output_type": "display_data"
    }
   ],
   "source": [
    "fig, ax = plt.subplots(1, 3 ,figsize=(15,5))\n",
    "fig.suptitle('J Statistic Optimiziation', fontsize=20)\n",
    "\n",
    "ax[0].set_title('Percentile vs J Statistic')\n",
    "ax[0].set_xlabel('Percentile')\n",
    "ax[0].set_ylabel('J Statistic')\n",
    "ax[0].plot(summary_train_df['percentile'], summary_train_df['j_stat'])\n",
    "ax[0].plot(best_percentile_by_j_stat, best_j_stat, marker='*', ls='none', ms=15)\n",
    "ax[0].annotate(f'q={best_percentile_by_j_stat:.4f}\\nj={best_j_stat:.4f}', (best_percentile_by_j_stat, best_j_stat), xytext=(-20,-50), textcoords='offset points')\n",
    "\n",
    "ax[1].set_title('Threshold vs J Statistic')\n",
    "ax[1].set_xlabel('Threshold')\n",
    "ax[1].set_ylabel('J Statistic')\n",
    "ax[1].plot(summary_train_df['threshold'], summary_train_df['j_stat'])\n",
    "ax[1].plot(best_threshold_by_j_stat, best_j_stat, marker='*', ls='none', ms=15)\n",
    "ax[1].annotate(f'threshold={best_threshold_by_j_stat:,.0f}\\nj={best_j_stat:.4f}', (best_threshold_by_j_stat, best_j_stat), xytext=(15,-15), textcoords='offset points')\n",
    "\n",
    "ax[2].set_title('FPR vs TPR')\n",
    "ax[2].set_xlabel('FPR')\n",
    "ax[2].set_ylabel('TPR')\n",
    "ax[2].plot(summary_train_df['fp_rate'], summary_train_df['tp_rate'])\n",
    "ax[2].plot(best_fpr_by_j_stat, best_tpr_by_j_stat, marker='*', ls='none', ms=15)\n",
    "ax[2].annotate(f'FPR={best_fpr_by_j_stat:.4f}\\nTPR={best_tpr_by_j_stat:.4f}', (best_fpr_by_j_stat, best_tpr_by_j_stat), xytext=(-80,0), textcoords='offset points')\n",
    "\n",
    "plt.tight_layout()\n",
    "plt.show()"
   ]
  },
  {
   "cell_type": "markdown",
   "id": "67370808",
   "metadata": {},
   "source": [
    "Finding Threshold With Best F1 Score"
   ]
  },
  {
   "cell_type": "code",
   "execution_count": 31,
   "id": "cd97a686",
   "metadata": {},
   "outputs": [
    {
     "data": {
      "text/html": [
       "<div>\n",
       "<style scoped>\n",
       "    .dataframe tbody tr th:only-of-type {\n",
       "        vertical-align: middle;\n",
       "    }\n",
       "\n",
       "    .dataframe tbody tr th {\n",
       "        vertical-align: top;\n",
       "    }\n",
       "\n",
       "    .dataframe thead th {\n",
       "        text-align: right;\n",
       "    }\n",
       "</style>\n",
       "<table border=\"1\" class=\"dataframe\">\n",
       "  <thead>\n",
       "    <tr style=\"text-align: right;\">\n",
       "      <th></th>\n",
       "      <th>feature</th>\n",
       "      <th>percentile</th>\n",
       "      <th>threshold</th>\n",
       "      <th>no_of_alerts</th>\n",
       "      <th>tp_count</th>\n",
       "      <th>fp_count</th>\n",
       "      <th>tn_count</th>\n",
       "      <th>fn_count</th>\n",
       "      <th>precision</th>\n",
       "      <th>recall</th>\n",
       "      <th>f1</th>\n",
       "    </tr>\n",
       "  </thead>\n",
       "  <tbody>\n",
       "    <tr>\n",
       "      <th>59</th>\n",
       "      <td>DEPOSIT_AMT</td>\n",
       "      <td>0.6</td>\n",
       "      <td>1.241219e+07</td>\n",
       "      <td>2400</td>\n",
       "      <td>539</td>\n",
       "      <td>1861</td>\n",
       "      <td>3128</td>\n",
       "      <td>472</td>\n",
       "      <td>0.224583</td>\n",
       "      <td>0.533136</td>\n",
       "      <td>0.316036</td>\n",
       "    </tr>\n",
       "  </tbody>\n",
       "</table>\n",
       "</div>"
      ],
      "text/plain": [
       "        feature  percentile     threshold  no_of_alerts  tp_count  fp_count  \\\n",
       "59  DEPOSIT_AMT         0.6  1.241219e+07          2400       539      1861   \n",
       "\n",
       "    tn_count  fn_count  precision    recall        f1  \n",
       "59      3128       472   0.224583  0.533136  0.316036  "
      ]
     },
     "execution_count": 31,
     "metadata": {},
     "output_type": "execute_result"
    }
   ],
   "source": [
    "summary_train_df['precision'] = summary_train_df['tp_count'] / (summary_train_df['tp_count'] + summary_train_df['fp_count'])\n",
    "summary_train_df['recall'] = summary_train_df['tp_rate']\n",
    "summary_train_df['f1'] = (2 * summary_train_df['precision'] * summary_train_df['recall']) / (summary_train_df['precision'] + summary_train_df['recall'])\n",
    "best_f1_df = summary_train_df[summary_train_df['f1'] == summary_train_df['f1'].max()]\n",
    "best_f1_df.drop(columns=['tp_rate','fp_rate','j_stat'])"
   ]
  },
  {
   "cell_type": "code",
   "execution_count": 32,
   "id": "2c7ca4d2",
   "metadata": {},
   "outputs": [],
   "source": [
    "best_percentile_by_f1 = best_f1_df.iloc[0]['percentile']\n",
    "best_threshold_by_f1 = best_f1_df.iloc[0]['threshold']\n",
    "best_f1 = best_f1_df.iloc[0]['f1']\n",
    "best_precision_by_f1 = best_f1_df.iloc[0]['precision']\n",
    "best_recall_by_f1 = best_f1_df.iloc[0]['recall']"
   ]
  },
  {
   "cell_type": "code",
   "execution_count": 35,
   "id": "1a729e16",
   "metadata": {},
   "outputs": [
    {
     "data": {
      "image/png": "[encoded data removed]",
      "text/plain": [
       "<Figure size 1000x800 with 2 Axes>"
      ]
     },
     "metadata": {},
     "output_type": "display_data"
    }
   ],
   "source": [
    "# Assuming the threshold and target feature have already been defined\n",
    "y_suspicious = acct_summary_train['SUSPICIOUS']\n",
    "y_alert = (acct_summary_train[target_feature] >= best_threshold_by_f1).astype(int)\n",
    "\n",
    "# Calculate the confusion matrix\n",
    "cm = confusion_matrix(y_suspicious, y_alert)\n",
    "\n",
    "# Create a DataFrame for better visualization\n",
    "cm_df = pd.DataFrame(cm, index=['Not Suspicious', 'Suspicious'], columns=['No Alert', 'With Alert'])\n",
    "\n",
    "plt.figure(figsize=(10, 8))\n",
    "sns.heatmap(cm_df, cmap='Blues', fmt='g', cbar=True, annot_kws={\"size\": 15})\n",
    "plt.xlabel('With Alert', fontsize=15)\n",
    "plt.ylabel('Suspicious', fontsize=15)\n",
    "plt.title(f'Confusion Matrix at {best_percentile_by_f1*100:.0f}th Percentile', fontsize=18)\n",
    "plt.xticks(fontsize=12)\n",
    "plt.yticks(fontsize=12)\n",
    "\n",
    "# Add text annotations\n",
    "for i in range(cm.shape[0]):\n",
    "    for j in range(cm.shape[1]):\n",
    "        plt.text(j + 0.5, i + 0.5, f'{cm[i, j]}', horizontalalignment='center', color='white' if cm[i, j] > cm.max() / 2 else 'black')\n",
    "\n",
    "plt.show()"
   ]
  },
  {
   "cell_type": "code",
   "execution_count": 36,
   "id": "2addb241",
   "metadata": {},
   "outputs": [
    {
     "data": {
      "image/png": "[encoded data removed]",
      "text/plain": [
       "<Figure size 1500x500 with 3 Axes>"
      ]
     },
     "metadata": {},
     "output_type": "display_data"
    }
   ],
   "source": [
    "fig, ax = plt.subplots(1, 3 ,figsize=(15,5))\n",
    "fig.suptitle('F1 Score Optimiziation', fontsize=20)\n",
    "\n",
    "ax[0].set_title('Percentile vs F1 Score')\n",
    "ax[0].set_xlabel('Percentile')\n",
    "ax[0].set_ylabel('F1 Score')\n",
    "ax[0].plot(summary_train_df['percentile'], summary_train_df['f1'])\n",
    "ax[0].plot(best_percentile_by_f1, best_f1, marker='*', ls='none', ms=15)\n",
    "ax[0].annotate(f'q={best_percentile_by_f1:.4f}\\nf1={best_f1:.4f}', (best_percentile_by_f1,best_f1), xytext=(-20,-35), textcoords='offset points')\n",
    "\n",
    "ax[1].set_title('Threshold vs F1 Score')\n",
    "ax[1].set_xlabel('Threshold')\n",
    "ax[1].set_ylabel('F1 Score')\n",
    "ax[1].plot(summary_train_df['threshold'], summary_train_df['f1'])\n",
    "ax[1].plot(best_threshold_by_f1, best_f1, marker='*', ls='none', ms=15)\n",
    "ax[1].annotate(f'threshold={best_threshold_by_f1:,.0f}\\nf1={best_f1:.4f}', (best_threshold_by_f1,best_f1), xytext=(20,-15), textcoords='offset points')\n",
    "\n",
    "ax[2].set_title('Precision vs Recall')\n",
    "ax[2].set_xlabel('Recall')\n",
    "ax[2].set_ylabel('Precision')\n",
    "ax[2].plot(summary_train_df['recall'], summary_train_df['precision'])\n",
    "ax[2].plot(best_recall_by_f1, best_precision_by_f1, marker='*', ls='none', ms=15)\n",
    "ax[2].annotate(f'recall={best_recall_by_f1:.4f}\\nprecision={best_precision_by_f1:.4f}', (best_recall_by_f1, best_precision_by_f1), xytext=(-50,15), textcoords='offset points')\n",
    "\n",
    "plt.tight_layout()\n",
    "plt.show()"
   ]
  },
  {
   "cell_type": "markdown",
   "id": "952ba747",
   "metadata": {},
   "source": [
    "Compare J Statistic and F1 Score Recommendation"
   ]
  },
  {
   "cell_type": "code",
   "execution_count": 37,
   "id": "3a632128",
   "metadata": {},
   "outputs": [
    {
     "data": {
      "text/html": [
       "<div>\n",
       "<style scoped>\n",
       "    .dataframe tbody tr th:only-of-type {\n",
       "        vertical-align: middle;\n",
       "    }\n",
       "\n",
       "    .dataframe tbody tr th {\n",
       "        vertical-align: top;\n",
       "    }\n",
       "\n",
       "    .dataframe thead th {\n",
       "        text-align: right;\n",
       "    }\n",
       "</style>\n",
       "<table border=\"1\" class=\"dataframe\">\n",
       "  <thead>\n",
       "    <tr style=\"text-align: right;\">\n",
       "      <th></th>\n",
       "      <th>J Statistic</th>\n",
       "      <th>F1 Score</th>\n",
       "    </tr>\n",
       "    <tr>\n",
       "      <th>DEPOSIT_AMT</th>\n",
       "      <th></th>\n",
       "      <th></th>\n",
       "    </tr>\n",
       "  </thead>\n",
       "  <tbody>\n",
       "    <tr>\n",
       "      <th>percentile</th>\n",
       "      <td>6.400000e-01</td>\n",
       "      <td>6.000000e-01</td>\n",
       "    </tr>\n",
       "    <tr>\n",
       "      <th>threshold</th>\n",
       "      <td>1.566139e+07</td>\n",
       "      <td>1.241219e+07</td>\n",
       "    </tr>\n",
       "    <tr>\n",
       "      <th>no_of_alerts</th>\n",
       "      <td>2.160000e+03</td>\n",
       "      <td>2.400000e+03</td>\n",
       "    </tr>\n",
       "    <tr>\n",
       "      <th>tp_count</th>\n",
       "      <td>4.990000e+02</td>\n",
       "      <td>5.390000e+02</td>\n",
       "    </tr>\n",
       "    <tr>\n",
       "      <th>fp_count</th>\n",
       "      <td>1.661000e+03</td>\n",
       "      <td>1.861000e+03</td>\n",
       "    </tr>\n",
       "    <tr>\n",
       "      <th>tn_count</th>\n",
       "      <td>3.328000e+03</td>\n",
       "      <td>3.128000e+03</td>\n",
       "    </tr>\n",
       "    <tr>\n",
       "      <th>fn_count</th>\n",
       "      <td>5.120000e+02</td>\n",
       "      <td>4.720000e+02</td>\n",
       "    </tr>\n",
       "  </tbody>\n",
       "</table>\n",
       "</div>"
      ],
      "text/plain": [
       "               J Statistic      F1 Score\n",
       "DEPOSIT_AMT                             \n",
       "percentile    6.400000e-01  6.000000e-01\n",
       "threshold     1.566139e+07  1.241219e+07\n",
       "no_of_alerts  2.160000e+03  2.400000e+03\n",
       "tp_count      4.990000e+02  5.390000e+02\n",
       "fp_count      1.661000e+03  1.861000e+03\n",
       "tn_count      3.328000e+03  3.128000e+03\n",
       "fn_count      5.120000e+02  4.720000e+02"
      ]
     },
     "execution_count": 37,
     "metadata": {},
     "output_type": "execute_result"
    }
   ],
   "source": [
    "columns = ['percentile','threshold','no_of_alerts','tp_count','fp_count','tn_count','fn_count']\n",
    "j_stat_vs_f1 = pd.concat([best_j_stat_df[columns].T,best_f1_df[columns].T], axis=1)\n",
    "j_stat_vs_f1.columns = ['J Statistic','F1 Score']\n",
    "j_stat_vs_f1.index.names=[target_feature]\n",
    "j_stat_vs_f1"
   ]
  },
  {
   "cell_type": "markdown",
   "id": "4d7f4a96",
   "metadata": {},
   "source": [
    "Validate Threshold Setting With Test Set"
   ]
  },
  {
   "cell_type": "code",
   "execution_count": 38,
   "id": "23728e50",
   "metadata": {},
   "outputs": [
    {
     "data": {
      "text/html": [
       "<div>\n",
       "<style scoped>\n",
       "    .dataframe tbody tr th:only-of-type {\n",
       "        vertical-align: middle;\n",
       "    }\n",
       "\n",
       "    .dataframe tbody tr th {\n",
       "        vertical-align: top;\n",
       "    }\n",
       "\n",
       "    .dataframe thead th {\n",
       "        text-align: right;\n",
       "    }\n",
       "</style>\n",
       "<table border=\"1\" class=\"dataframe\">\n",
       "  <thead>\n",
       "    <tr style=\"text-align: right;\">\n",
       "      <th></th>\n",
       "      <th>train</th>\n",
       "      <th>test</th>\n",
       "      <th>pct_change</th>\n",
       "    </tr>\n",
       "    <tr>\n",
       "      <th>DEPOSIT_AMT</th>\n",
       "      <th></th>\n",
       "      <th></th>\n",
       "      <th></th>\n",
       "    </tr>\n",
       "  </thead>\n",
       "  <tbody>\n",
       "    <tr>\n",
       "      <th>threshold</th>\n",
       "      <td>1.241219e+07</td>\n",
       "      <td>1.241219e+07</td>\n",
       "      <td>0.000000</td>\n",
       "    </tr>\n",
       "    <tr>\n",
       "      <th>no_of_alerts</th>\n",
       "      <td>2.400000e+03</td>\n",
       "      <td>1.650000e+03</td>\n",
       "      <td>-0.312500</td>\n",
       "    </tr>\n",
       "    <tr>\n",
       "      <th>tp_count</th>\n",
       "      <td>5.390000e+02</td>\n",
       "      <td>3.930000e+02</td>\n",
       "      <td>-0.270872</td>\n",
       "    </tr>\n",
       "    <tr>\n",
       "      <th>fp_count</th>\n",
       "      <td>1.861000e+03</td>\n",
       "      <td>1.257000e+03</td>\n",
       "      <td>-0.324557</td>\n",
       "    </tr>\n",
       "    <tr>\n",
       "      <th>tn_count</th>\n",
       "      <td>3.128000e+03</td>\n",
       "      <td>2.069000e+03</td>\n",
       "      <td>-0.338555</td>\n",
       "    </tr>\n",
       "    <tr>\n",
       "      <th>fn_count</th>\n",
       "      <td>4.720000e+02</td>\n",
       "      <td>2.810000e+02</td>\n",
       "      <td>-0.404661</td>\n",
       "    </tr>\n",
       "    <tr>\n",
       "      <th>tp_rate</th>\n",
       "      <td>5.331355e-01</td>\n",
       "      <td>5.830861e-01</td>\n",
       "      <td>0.093692</td>\n",
       "    </tr>\n",
       "    <tr>\n",
       "      <th>fp_rate</th>\n",
       "      <td>3.730206e-01</td>\n",
       "      <td>3.779314e-01</td>\n",
       "      <td>0.013165</td>\n",
       "    </tr>\n",
       "    <tr>\n",
       "      <th>j_stat</th>\n",
       "      <td>1.601149e-01</td>\n",
       "      <td>2.051546e-01</td>\n",
       "      <td>0.281296</td>\n",
       "    </tr>\n",
       "    <tr>\n",
       "      <th>precision</th>\n",
       "      <td>2.245833e-01</td>\n",
       "      <td>2.381818e-01</td>\n",
       "      <td>0.060550</td>\n",
       "    </tr>\n",
       "    <tr>\n",
       "      <th>recall</th>\n",
       "      <td>5.331355e-01</td>\n",
       "      <td>5.830861e-01</td>\n",
       "      <td>0.093692</td>\n",
       "    </tr>\n",
       "    <tr>\n",
       "      <th>f1</th>\n",
       "      <td>3.160364e-01</td>\n",
       "      <td>3.382100e-01</td>\n",
       "      <td>0.070162</td>\n",
       "    </tr>\n",
       "  </tbody>\n",
       "</table>\n",
       "</div>"
      ],
      "text/plain": [
       "                     train          test  pct_change\n",
       "DEPOSIT_AMT                                         \n",
       "threshold     1.241219e+07  1.241219e+07    0.000000\n",
       "no_of_alerts  2.400000e+03  1.650000e+03   -0.312500\n",
       "tp_count      5.390000e+02  3.930000e+02   -0.270872\n",
       "fp_count      1.861000e+03  1.257000e+03   -0.324557\n",
       "tn_count      3.128000e+03  2.069000e+03   -0.338555\n",
       "fn_count      4.720000e+02  2.810000e+02   -0.404661\n",
       "tp_rate       5.331355e-01  5.830861e-01    0.093692\n",
       "fp_rate       3.730206e-01  3.779314e-01    0.013165\n",
       "j_stat        1.601149e-01  2.051546e-01    0.281296\n",
       "precision     2.245833e-01  2.381818e-01    0.060550\n",
       "recall        5.331355e-01  5.830861e-01    0.093692\n",
       "f1            3.160364e-01  3.382100e-01    0.070162"
      ]
     },
     "execution_count": 38,
     "metadata": {},
     "output_type": "execute_result"
    }
   ],
   "source": [
    "best_evaluation = best_f1_df\n",
    "threshold = best_threshold_by_f1\n",
    "\n",
    "summary_test = {}\n",
    "\n",
    "summary_test['feature'] = target_feature\n",
    "summary_test['threshold'] = threshold\n",
    "summary_test['no_of_alerts'] = (acct_summary_test[target_feature]>=threshold).sum()\n",
    "summary_test['tp_count'] = ((acct_summary_test[target_feature]>=threshold) & (acct_summary_test['SUSPICIOUS']==1)).sum()\n",
    "summary_test['fp_count'] = ((acct_summary_test[target_feature]>=threshold) & (acct_summary_test['SUSPICIOUS']==0)).sum()\n",
    "summary_test['tn_count'] = ((acct_summary_test[target_feature]<threshold) & (acct_summary_test['SUSPICIOUS']==0)).sum()\n",
    "summary_test['fn_count'] = ((acct_summary_test[target_feature]<threshold) & (acct_summary_test['SUSPICIOUS']==1)).sum()\n",
    "\n",
    "summary_test_df = pd.DataFrame(summary_test, index=[0])\n",
    "\n",
    "summary_test_df['tp_rate'] = summary_test_df['tp_count'] / (summary_test_df['tp_count'] + summary_test_df['fn_count'])\n",
    "summary_test_df['fp_rate'] = summary_test_df['fp_count'] / (summary_test_df['fp_count'] + summary_test_df['tn_count'])\n",
    "summary_test_df['j_stat'] = summary_test_df['tp_rate'] - summary_test_df['fp_rate']\n",
    "\n",
    "summary_test_df['precision'] = summary_test_df['tp_count'] / (summary_test_df['tp_count'] + summary_test_df['fp_count'])\n",
    "summary_test_df['recall'] = summary_test_df['tp_rate']\n",
    "summary_test_df['f1'] = (2 * summary_test_df['precision'] * summary_test_df['recall']) / (summary_test_df['precision'] + summary_test_df['recall'])\n",
    "\n",
    "comparison = pd.concat([\n",
    "    best_evaluation.drop(columns=['feature','percentile']).head(1).T,\n",
    "    summary_test_df.drop(columns=['feature']).T], axis=1)    \n",
    "comparison.columns=['train','test']\n",
    "comparison.index.names = [target_feature]\n",
    "comparison['pct_change'] = (comparison['test'] - comparison['train']) / comparison['train']\n",
    "\n",
    "comparison"
   ]
  },
  {
   "cell_type": "code",
   "execution_count": null,
   "id": "a16d86a0",
   "metadata": {},
   "outputs": [],
   "source": []
  }
 ],
 "metadata": {
  "kernelspec": {
   "display_name": "Python 3 (ipykernel)",
   "language": "python",
   "name": "python3"
  },
  "language_info": {
   "codemirror_mode": {
    "name": "ipython",
    "version": 3
   },
   "file_extension": ".py",
   "mimetype": "text/x-python",
   "name": "python",
   "nbconvert_exporter": "python",
   "pygments_lexer": "ipython3",
   "version": "3.11.7"
  }
 },
 "nbformat": 4,
 "nbformat_minor": 5
}
